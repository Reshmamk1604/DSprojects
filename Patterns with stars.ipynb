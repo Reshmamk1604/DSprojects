{
 "cells": [
  {
   "cell_type": "code",
   "execution_count": 8,
   "metadata": {},
   "outputs": [
    {
     "name": "stdout",
     "output_type": "stream",
     "text": [
      "*\r\n",
      "**\r\n",
      "***\r\n",
      "****\r\n",
      "*****\r\n",
      "******\r\n",
      "*******\r\n"
     ]
    }
   ],
   "source": [
    "#pattern to create left angled triangle\n",
    "# outer loop for number of rows\n",
    "for i in range(0, 7):\n",
    "  \n",
    "    # inner loop for number of columns\n",
    "     for j in range(0, i+1):\n",
    "            print(\"*\",end=\"\")   # end plays an important role in printing the pattern      \n",
    "        \n",
    "     print(\"\\r\") #for introducing new row"
   ]
  },
  {
   "cell_type": "code",
   "execution_count": 27,
   "metadata": {},
   "outputs": [
    {
     "name": "stdout",
     "output_type": "stream",
     "text": [
      "      \r\n",
      "     *\r\n",
      "    **\r\n",
      "   ***\r\n",
      "  ****\r\n",
      " *****\r\n",
      "******\r\n"
     ]
    }
   ],
   "source": [
    "#pattern to create right angled triangle\n",
    "n=6\n",
    "# outer loop for number of rows\n",
    "for i in range(0, 7):\n",
    "    # this loop is for introducing spaces in each row\n",
    "    for j in range(0, n):\n",
    "         print(end=\" \")\n",
    "    n-=1   \n",
    "    # inner loop for number of columns\n",
    "    for k in range(0, i):\n",
    "         print(\"*\",end=\"\")   # end plays an important role in printing the pattern      \n",
    "        \n",
    "    print(\"\\r\") #for introducing new row"
   ]
  },
  {
   "cell_type": "code",
   "execution_count": 22,
   "metadata": {},
   "outputs": [
    {
     "name": "stdout",
     "output_type": "stream",
     "text": [
      "      \r\n",
      "     * \r\n",
      "    * * \r\n",
      "   * * * \r\n",
      "  * * * * \r\n",
      " * * * * * \r\n",
      "* * * * * * \r\n"
     ]
    }
   ],
   "source": [
    "#triangle\n",
    "n=6\n",
    "# outer loop for number of rows\n",
    "for i in range(0, 7):\n",
    "    # this loop is for introducing spaces in each row\n",
    "    for j in range(0, n):\n",
    "         print(end=\" \")\n",
    "    n-=1   \n",
    "    # inner loop for number of columns\n",
    "    for k in range(0, i):\n",
    "         print(\"*\",end=\" \")   # end plays an important role in printing the pattern      \n",
    "        \n",
    "    print(\"\\r\") #for introducing new row"
   ]
  },
  {
   "cell_type": "code",
   "execution_count": 33,
   "metadata": {},
   "outputs": [
    {
     "name": "stdout",
     "output_type": "stream",
     "text": [
      "*******\n",
      "******\n",
      "*****\n",
      "****\n",
      "***\n",
      "**\n",
      "*\n",
      "\n"
     ]
    }
   ],
   "source": [
    "#inverted left angle triangle\n",
    "# the outer loop should be in reverse order  \n",
    "for i in range(8, 0, -1):    \n",
    "    for j in range(0, i - 1):  \n",
    "        print(\"*\", end='')  \n",
    "    print(\"\")  "
   ]
  },
  {
   "cell_type": "code",
   "execution_count": 104,
   "metadata": {},
   "outputs": [
    {
     "name": "stdout",
     "output_type": "stream",
     "text": [
      "******* \n",
      " ****** \n",
      "  ***** \n",
      "   **** \n",
      "    *** \n",
      "     ** \n",
      "      * \n",
      "        \n"
     ]
    }
   ],
   "source": [
    "#inverted right angle triangle\n",
    "b=7\n",
    "# the outer loop should be in reverse order  \n",
    "for i in range(0,8): \n",
    "    for j in range(0,i):  \n",
    "        print(end=\" \")\n",
    "    b -=1\n",
    "    for k in range( 0,b+1 ):  \n",
    "        print(\"*\", end=\"\")  \n",
    "    print(\" \") "
   ]
  },
  {
   "cell_type": "code",
   "execution_count": 137,
   "metadata": {},
   "outputs": [
    {
     "name": "stdout",
     "output_type": "stream",
     "text": [
      "            * * * * * * * *  \n",
      "             * * * * * * *  \n",
      "              * * * * * *  \n",
      "               * * * * *  \n",
      "                * * * *  \n",
      "                 * * *  \n",
      "                  * *  \n",
      "                   *  \n"
     ]
    }
   ],
   "source": [
    "#inverted triangle  \n",
    "k = 12 \n",
    "# Outer loop in reverse order  \n",
    "for i in range(7, -1, -1):  \n",
    "    # Inner loop will print the number of space.  \n",
    "    for j in range(k,0, -1):  \n",
    "        print(end=\" \")  \n",
    "    k = k + 1  \n",
    "    # This inner loop will print the number o stars  \n",
    "    for j in range(0, i + 1):  \n",
    "        print(\"*\", end=\" \")  \n",
    "    print(\" \") "
   ]
  },
  {
   "cell_type": "code",
   "execution_count": 138,
   "metadata": {},
   "outputs": [
    {
     "name": "stdout",
     "output_type": "stream",
     "text": [
      "*  \n",
      "* *  \n",
      "* * *  \n",
      "* * * *  \n",
      "* * * * *  \n",
      "* * * * * *  \n",
      "* * * * * * *  \n",
      "* * * * * * * *  \n",
      "* * * * * * * *  \n",
      "* * * * * * *  \n",
      "* * * * * *  \n",
      "* * * * *  \n",
      "* * * *  \n",
      "* * *  \n",
      "* *  \n",
      "*  \n",
      " \n"
     ]
    }
   ],
   "source": [
    "\n",
    "# Outer loop will print the number of rows  \n",
    "for i in range(0, 8):  \n",
    "    # This inner loop will print the stars  \n",
    "    for j in range(0, i + 1):  \n",
    "        print(\"*\", end=' ')  \n",
    "    # Change line after each iteration  \n",
    "    print(\" \")  \n",
    "# For second pattern  \n",
    "for i in range(8 + 1, 0, -1):  \n",
    "    for j in range(0, i - 1):  \n",
    "        print(\"*\", end=' ')  \n",
    "    print(\" \")  "
   ]
  },
  {
   "cell_type": "code",
   "execution_count": 139,
   "metadata": {
    "scrolled": true
   },
   "outputs": [
    {
     "name": "stdout",
     "output_type": "stream",
     "text": [
      "Enter the number of rows: 5\n",
      "   * * * * * * \n",
      "    * * * * * \n",
      "     * * * * \n",
      "      * * * \n",
      "       * * \n",
      "        * \n",
      "        * \n",
      "       * * \n",
      "      * * * \n",
      "     * * * * \n",
      "    * * * * * \n"
     ]
    }
   ],
   "source": [
    "rows = int(input(\"Enter the number of rows: \"))  \n",
    "k = rows - 2  \n",
    "# This is used to print the downward pyramid  \n",
    "for i in range(rows, -1 , -1):  \n",
    "    for j in range(k , 0 , -1):  \n",
    "        print(end=\" \")  \n",
    "    k = k + 1  \n",
    "    for j in range(0, i+1):  \n",
    "        print(\"* \" , end=\"\")  \n",
    "    print()  \n",
    "  \n",
    "# This is used to print the upward pyramid  \n",
    "k = 2 * rows  - 2  \n",
    "for i in range(0 , rows):  \n",
    "    for j in range(0 , k):  \n",
    "        print(end=\" \")  \n",
    "    k = k - 1  \n",
    "    for j in range(0, i + 1):  \n",
    "        print(\"* \", end=\"\")  \n",
    "    print() "
   ]
  },
  {
   "cell_type": "code",
   "execution_count": 140,
   "metadata": {},
   "outputs": [
    {
     "name": "stdout",
     "output_type": "stream",
     "text": [
      "Enter the number of rows: 6\n",
      "          * \n",
      "         * * \n",
      "        * * * \n",
      "       * * * * \n",
      "      * * * * * \n",
      "     * * * * * * \n",
      "    * * * * * * * \n",
      "     * * * * * * \n",
      "      * * * * * \n",
      "       * * * * \n",
      "        * * * \n",
      "         * * \n",
      "          * \n"
     ]
    }
   ],
   "source": [
    "rows = int(input(\"Enter the number of rows: \"))  \n",
    "  \n",
    "# It is used to print the space  \n",
    "k = 2 * rows - 2  \n",
    "# Outer loop to print number of rows  \n",
    "for i in range(0, rows):  \n",
    "    # Inner loop is used to print number of space  \n",
    "    for j in range(0, k):  \n",
    "        print(end=\" \")  \n",
    "    # Decrement in k after each iteration  \n",
    "    k = k - 1  \n",
    "    # This inner loop is used to print stars  \n",
    "    for j in range(0, i + 1):  \n",
    "        print(\"* \", end=\"\")  \n",
    "    print(\"\")  \n",
    "  \n",
    "# Downward triangle Pyramid  \n",
    "# It is used to print the space  \n",
    "k = rows - 2  \n",
    "# Output for downward triangle pyramid  \n",
    "for i in range(rows, -1, -1):  \n",
    "    # inner loop will print the spaces  \n",
    "    for j in range(k, 0, -1):  \n",
    "        print(end=\" \")  \n",
    "    # Increment in k after each iteration  \n",
    "    k = k + 1  \n",
    "    # This inner loop will print number of stars  \n",
    "    for j in range(0, i + 1):  \n",
    "        print(\"* \", end=\"\")  \n",
    "    print(\"\")  "
   ]
  },
  {
   "cell_type": "code",
   "execution_count": null,
   "metadata": {},
   "outputs": [],
   "source": []
  }
 ],
 "metadata": {
  "kernelspec": {
   "display_name": "Python 3",
   "language": "python",
   "name": "python3"
  },
  "language_info": {
   "codemirror_mode": {
    "name": "ipython",
    "version": 3
   },
   "file_extension": ".py",
   "mimetype": "text/x-python",
   "name": "python",
   "nbconvert_exporter": "python",
   "pygments_lexer": "ipython3",
   "version": "3.8.3"
  }
 },
 "nbformat": 4,
 "nbformat_minor": 4
}
